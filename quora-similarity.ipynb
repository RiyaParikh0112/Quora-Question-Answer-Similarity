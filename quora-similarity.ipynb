{
 "cells": [
  {
   "cell_type": "code",
   "execution_count": 1,
   "id": "a1829b88",
   "metadata": {
    "_cell_guid": "b1076dfc-b9ad-4769-8c92-a6c4dae69d19",
    "_uuid": "8f2839f25d086af736a60e9eeb907d3b93b6e0e5",
    "execution": {
     "iopub.execute_input": "2022-12-20T07:32:18.122064Z",
     "iopub.status.busy": "2022-12-20T07:32:18.120955Z",
     "iopub.status.idle": "2022-12-20T07:32:19.225883Z",
     "shell.execute_reply": "2022-12-20T07:32:19.224816Z"
    },
    "papermill": {
     "duration": 1.112186,
     "end_time": "2022-12-20T07:32:19.228705",
     "exception": false,
     "start_time": "2022-12-20T07:32:18.116519",
     "status": "completed"
    },
    "tags": []
   },
   "outputs": [],
   "source": [
    "import pandas as pd\n",
    "import numpy as np\n",
    "import seaborn as sns\n",
    "import matplotlib.pyplot as plt\n",
    "\n",
    "import warnings\n",
    "warnings.filterwarnings('ignore')"
   ]
  },
  {
   "cell_type": "code",
   "execution_count": 2,
   "id": "0fd1ffcc",
   "metadata": {
    "execution": {
     "iopub.execute_input": "2022-12-20T07:32:19.235366Z",
     "iopub.status.busy": "2022-12-20T07:32:19.235052Z",
     "iopub.status.idle": "2022-12-20T07:32:20.957609Z",
     "shell.execute_reply": "2022-12-20T07:32:20.956620Z"
    },
    "papermill": {
     "duration": 1.728726,
     "end_time": "2022-12-20T07:32:20.959983",
     "exception": false,
     "start_time": "2022-12-20T07:32:19.231257",
     "status": "completed"
    },
    "tags": []
   },
   "outputs": [],
   "source": [
    "data = pd.read_csv('/kaggle/input/quoradata/train.csv')"
   ]
  },
  {
   "cell_type": "code",
   "execution_count": 3,
   "id": "d46726d7",
   "metadata": {
    "execution": {
     "iopub.execute_input": "2022-12-20T07:32:20.965319Z",
     "iopub.status.busy": "2022-12-20T07:32:20.965013Z",
     "iopub.status.idle": "2022-12-20T07:32:21.018402Z",
     "shell.execute_reply": "2022-12-20T07:32:21.017389Z"
    },
    "papermill": {
     "duration": 0.058954,
     "end_time": "2022-12-20T07:32:21.021053",
     "exception": false,
     "start_time": "2022-12-20T07:32:20.962099",
     "status": "completed"
    },
    "tags": []
   },
   "outputs": [],
   "source": [
    "data = data.sample(50000, random_state=30)"
   ]
  },
  {
   "cell_type": "code",
   "execution_count": 4,
   "id": "e32d7b02",
   "metadata": {
    "execution": {
     "iopub.execute_input": "2022-12-20T07:32:21.027102Z",
     "iopub.status.busy": "2022-12-20T07:32:21.026408Z",
     "iopub.status.idle": "2022-12-20T07:32:21.046127Z",
     "shell.execute_reply": "2022-12-20T07:32:21.045006Z"
    },
    "papermill": {
     "duration": 0.026214,
     "end_time": "2022-12-20T07:32:21.049506",
     "exception": false,
     "start_time": "2022-12-20T07:32:21.023292",
     "status": "completed"
    },
    "tags": []
   },
   "outputs": [
    {
     "data": {
      "text/plain": [
       "0    31473\n",
       "1    18527\n",
       "Name: is_duplicate, dtype: int64"
      ]
     },
     "execution_count": 4,
     "metadata": {},
     "output_type": "execute_result"
    }
   ],
   "source": [
    "data['is_duplicate'].value_counts()"
   ]
  },
  {
   "cell_type": "markdown",
   "id": "28d6ba7e",
   "metadata": {
    "papermill": {
     "duration": 0.001971,
     "end_time": "2022-12-20T07:32:21.053664",
     "exception": false,
     "start_time": "2022-12-20T07:32:21.051693",
     "status": "completed"
    },
    "tags": []
   },
   "source": []
  },
  {
   "cell_type": "code",
   "execution_count": null,
   "id": "58fa74c3",
   "metadata": {
    "papermill": {
     "duration": 0.001669,
     "end_time": "2022-12-20T07:32:21.057476",
     "exception": false,
     "start_time": "2022-12-20T07:32:21.055807",
     "status": "completed"
    },
    "tags": []
   },
   "outputs": [],
   "source": []
  }
 ],
 "metadata": {
  "kernelspec": {
   "display_name": "Python 3",
   "language": "python",
   "name": "python3"
  },
  "language_info": {
   "codemirror_mode": {
    "name": "ipython",
    "version": 3
   },
   "file_extension": ".py",
   "mimetype": "text/x-python",
   "name": "python",
   "nbconvert_exporter": "python",
   "pygments_lexer": "ipython3",
   "version": "3.7.12"
  },
  "papermill": {
   "default_parameters": {},
   "duration": 11.942239,
   "end_time": "2022-12-20T07:32:21.680032",
   "environment_variables": {},
   "exception": null,
   "input_path": "__notebook__.ipynb",
   "output_path": "__notebook__.ipynb",
   "parameters": {},
   "start_time": "2022-12-20T07:32:09.737793",
   "version": "2.3.4"
  }
 },
 "nbformat": 4,
 "nbformat_minor": 5
}
